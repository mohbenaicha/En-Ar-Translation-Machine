{
 "cells": [
  {
   "cell_type": "code",
   "execution_count": 2,
   "id": "a94935e4",
   "metadata": {},
   "outputs": [],
   "source": [
    "%reload_ext autoreload\n",
    "%autoreload 2\n",
    "\n",
    "import pickle\n",
    "import numpy as np\n",
    "import tensorflow as tf \n",
    "import matplotlib.pyplot as plt\n",
    "import matplotlib.ticker as ticker\n",
    "import warnings\n",
    "warnings.filterwarnings(\"ignore\")\n",
    "\n",
    "from utilities import load_data, arabic_normalizer, english_normalizer\n",
    "from resources import (ShapeChecker, Encoder, Decoder, BahdanauAttention, \n",
    "                       MaskedLoss, TrainTranslator, BatchLogs, Translator,\n",
    "                       load_model, load_preprocessor)"
   ]
  },
  {
   "cell_type": "code",
   "execution_count": 5,
   "id": "4ba5f7dc",
   "metadata": {},
   "outputs": [],
   "source": [
    "BATCH_SIZE = 64 # TODO: config\n",
    "EMBEDDING_DIM = 256 # TODO: config\n",
    "UNITS = 1024 # TODO: config\n",
    "TRAIN_DATA_FILE = \"Listpairs_Arabic_English.pkl\" # TODO: config\n",
    "TEST_DATA_FILE = \"Listpairs_Arabic_English.pkl\"\n",
    "\n",
    "MAX_VOCAB_SIZE = 10000 # TODO: config"
   ]
  },
  {
   "cell_type": "markdown",
   "id": "9741f309",
   "metadata": {},
   "source": [
    "#### Training"
   ]
  },
  {
   "cell_type": "code",
   "execution_count": 50,
   "id": "d0fc13a5",
   "metadata": {},
   "outputs": [],
   "source": [
    "targ, inp = load_data(TRAIN_DATA_FILE)\n",
    "dataset = tf.data.Dataset.from_tensor_slices((inp, targ)).shuffle(len(inp))\n",
    "dataset = dataset.batch(BATCH_SIZE)"
   ]
  },
  {
   "cell_type": "code",
   "execution_count": 63,
   "id": "4ca16d6d",
   "metadata": {},
   "outputs": [],
   "source": [
    "from typing import Union, List\n",
    "\n",
    "class Pipeline():\n",
    "    def __init__(self):\n",
    "        self.trained_translator = None\n",
    "    def train_preprocessors(self,\n",
    "                            inp_data:List[str], \n",
    "                            targ_data: List[str], \n",
    "                            max_vocab_size: int,\n",
    "                            inp_proc_save_name: Union[str, bool],\n",
    "                            targ_proc_save_name: Union[str, bool]) -> None:\n",
    "        \n",
    "        \n",
    "        self.max_vocab_size = max_vocab_size\n",
    "        self.arabic_normalizer= arabic_normalizer\n",
    "        self.english_normalizer= english_normalizer\n",
    "        \n",
    "        self.output_text_processor = tf.keras.layers.TextVectorization(\n",
    "                                    standardize=self.arabic_normalizer,\n",
    "                                    max_tokens=self.max_vocab_size)\n",
    "\n",
    "        self.input_text_processor = tf.keras.layers.TextVectorization(\n",
    "                                    standardize=self.english_normalizer,\n",
    "                                    max_tokens=self.max_vocab_size)\n",
    "        \n",
    "        for data in [inp_data, targ_data]:\n",
    "            assert isinstance(data, list) and all([isinstance(i, str) for i in data])\n",
    "        if any([inp_proc_save_name, targ_proc_save_name]):\n",
    "            assert all([inp_proc_save_name, targ_proc_save_name])\n",
    "            \n",
    "        self.input_text_processor.adapt(inp_data)\n",
    "        self.output_text_processor.adapt(targ_data)\n",
    "        \n",
    "        if all([inp_proc_save_name, targ_proc_save_name]):\n",
    "            for p, n in zip([self.input_text_processor, self.output_text_processor], \n",
    "                        [inp_proc_save_name, targ_proc_save_name]):\n",
    "                pickle.dump({'config': p.get_config(),\n",
    "                     'weights': p.get_weights()}\n",
    "                    , open(n, \"wb\"))\n",
    "        else:\n",
    "            print(\"You must specify input and output preprocessor names that you wish to save to file.\")\n",
    "\n",
    "    def train_translator(self, \n",
    "                         units: int, \n",
    "                         embedding_dim: int, \n",
    "                         n_epochs: int,\n",
    "                         save_file_name: str) -> TrainTranslator:\n",
    "        \n",
    "        translator = TrainTranslator(EMBEDDING_DIM, \n",
    "                                        UNITS,\n",
    "                                        input_text_processor=self.input_text_processor,\n",
    "                                        output_text_processor=self.output_text_processor,\n",
    "                                        use_tf_function=True)\n",
    "\n",
    "        translator.compile(\n",
    "                            optimizer=tf.optimizers.Adam(),\n",
    "                            loss=MaskedLoss())\n",
    "        self.batch_loss = BatchLogs('batch_loss')\n",
    "        self.dataset = tf.data.Dataset.from_tensor_slices((inp, targ)).shuffle(len(inp))\n",
    "        self.dataset = self.dataset.batch(BATCH_SIZE)\n",
    "        translator.fit(self.dataset, epochs=n_epochs,\n",
    "                     callbacks=[batch_loss])\n",
    "        self.translator.save_weights(save_file_name, save_format=\"tf\")\n",
    "        return self.translator\n",
    "    \n",
    "    def translate(self):\n",
    "        load_model(input_processor,\n",
    "                   output_processor,\n",
    "                   weights,\n",
    "        "
   ]
  },
  {
   "cell_type": "code",
   "execution_count": 64,
   "id": "039eeceb",
   "metadata": {},
   "outputs": [],
   "source": [
    "pipeline = Pipeline()"
   ]
  },
  {
   "cell_type": "code",
   "execution_count": 65,
   "id": "f13ec280",
   "metadata": {},
   "outputs": [],
   "source": [
    "pipeline.train_preprocessors(inp_data=inp,\n",
    "                    targ_data=targ,\n",
    "                    max_vocab_size=MAX_VOCAB_SIZE,\n",
    "                    inp_proc_save_name=\"test_input_pro.pkl\",\n",
    "                    targ_proc_save_name=\"test_output_pro.pkl\")"
   ]
  },
  {
   "cell_type": "code",
   "execution_count": null,
   "id": "b500a0a5",
   "metadata": {},
   "outputs": [],
   "source": [
    "pipeline.train_preprocessors()"
   ]
  },
  {
   "cell_type": "code",
   "execution_count": 12,
   "id": "e7af1485",
   "metadata": {},
   "outputs": [],
   "source": [
    "attention_layer = BahdanauAttention(UNITS)\n",
    "translator = TrainTranslator(\n",
    "    EMBEDDING_DIM, UNITS,\n",
    "    input_text_processor=input_text_processor,\n",
    "    output_text_processor=output_text_processor,\n",
    "    use_tf_function=True)\n",
    "\n",
    "loss = MaskedLoss()\n",
    "optimizer = optimizer=tf.optimizers.Adam()\n",
    "\n",
    "translator.compile(\n",
    "    optimizer=tf.optimizers.Adam(),\n",
    "    loss=MaskedLoss())\n",
    "batch_loss = BatchLogs('batch_loss')"
   ]
  },
  {
   "cell_type": "code",
   "execution_count": 13,
   "id": "7ea8dc50",
   "metadata": {},
   "outputs": [
    {
     "name": "stdout",
     "output_type": "stream",
     "text": [
      "Epoch 1/3\n",
      "190/190 [==============================] - 183s 942ms/step - batch_loss: 5.4613\n",
      "Epoch 2/3\n",
      "190/190 [==============================] - 177s 930ms/step - batch_loss: 4.3459\n",
      "Epoch 3/3\n",
      "190/190 [==============================] - 178s 934ms/step - batch_loss: 3.4422\n"
     ]
    }
   ],
   "source": [
    "SAVE_NAME = 'trained_translator_latest'\n",
    "translator.fit(dataset, epochs=3,\n",
    "                     callbacks=[batch_loss])\n",
    "translator.save_weights(SAVE_NAME, save_format=\"tf\")"
   ]
  },
  {
   "cell_type": "code",
   "execution_count": 14,
   "id": "82a5b1d7",
   "metadata": {},
   "outputs": [
    {
     "data": {
      "text/plain": [
       "Text(0, 0.5, 'CE/token')"
      ]
     },
     "execution_count": 14,
     "metadata": {},
     "output_type": "execute_result"
    },
    {
     "data": {
      "image/png": "[encoded data removed]",
      "text/plain": [
       "<Figure size 432x288 with 1 Axes>"
      ]
     },
     "metadata": {
      "needs_background": "light"
     },
     "output_type": "display_data"
    }
   ],
   "source": [
    "warnings.filterwarnings(\"ignore\")\n",
    "plt.plot(batch_loss.logs)\n",
    "plt.ylim([0, 9])\n",
    "plt.xlabel('Batch #')\n",
    "plt.ylabel('CE/token')"
   ]
  },
  {
   "cell_type": "markdown",
   "id": "68de6ffa",
   "metadata": {},
   "source": [
    "#### Testing\n",
    "\n",
    "This refers to querying English sentences that we understand and judging the accuracy of translation of the target language (in this case, Arabic)."
   ]
  },
  {
   "cell_type": "code",
   "execution_count": 20,
   "id": "39916714",
   "metadata": {},
   "outputs": [],
   "source": [
    "# load preprocessors and model structure\n",
    "preprocessor = load_preprocessor(input_preprocessor=\"_input_processor.pkl\", \n",
    "                                 output_preprocessor=\"_output_processor.pkl\", \n",
    "                                 en_norm=english_normalizer, ar_norm=arabic_normalizer)\n",
    "translator = load_model(input_processor=preprocessor[0], \n",
    "                        output_processor=preprocessor[1], \n",
    "                        weights = 'trained_translator_w',\n",
    "                        embedding_dim=EMBEDDING_DIM,\n",
    "                        units=UNITS)"
   ]
  },
  {
   "cell_type": "code",
   "execution_count": 70,
   "id": "0abe97cc",
   "metadata": {},
   "outputs": [
    {
     "data": {
      "text/plain": [
       "['هل تحب القهوة كثيرا ؟', 'اغلق فمك']"
      ]
     },
     "execution_count": 70,
     "metadata": {},
     "output_type": "execute_result"
    }
   ],
   "source": [
    "query = [\"Do you like coffee?\", \"test\"]\n",
    "query = [tf.constant([element]) for element in query]\n",
    "result = translator.translate_unrolled(input_text = query)\n",
    "[result['text'][i].numpy().decode() for i in range(len(query))]"
   ]
  },
  {
   "cell_type": "code",
   "execution_count": null,
   "id": "25b46777",
   "metadata": {},
   "outputs": [],
   "source": []
  }
 ],
 "metadata": {
  "kernelspec": {
   "display_name": "Python 3 (ipykernel)",
   "language": "python",
   "name": "python3"
  },
  "language_info": {
   "codemirror_mode": {
    "name": "ipython",
    "version": 3
   },
   "file_extension": ".py",
   "mimetype": "text/x-python",
   "name": "python",
   "nbconvert_exporter": "python",
   "pygments_lexer": "ipython3",
   "version": "3.9.7"
  }
 },
 "nbformat": 4,
 "nbformat_minor": 5
}
