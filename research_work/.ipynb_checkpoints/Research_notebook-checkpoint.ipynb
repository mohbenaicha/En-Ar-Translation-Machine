{
 "cells": [
  {
   "cell_type": "markdown",
   "id": "c1e75908",
   "metadata": {},
   "source": [
    "## English-to-Arabic Machine Translation Project\n",
    "\n",
    "The goal of this project is to tackle the challenge of translating English to one of the most complex languages in the world, Arabic.\n",
    "\n",
    "This dataset used is a pair of English-Arabic sentences that cover a variety of topics.\n",
    "\n",
    "The model used is an encoder-decode + attention layer from TF tutorials: https://www.tensorflow.org/text/tutorials/nmt_with_attention\n",
    "\n",
    "The model is tested using Tox and then deployed to Heroku and AWS-ECR using FastAPI and published on Gemfury. The CI/CD pipeline is managed through CircleCI."
   ]
  },
  {
   "cell_type": "code",
   "execution_count": 66,
   "id": "b8aba1b0",
   "metadata": {
    "id": "b8aba1b0"
   },
   "outputs": [],
   "source": [
    "%reload_ext autoreload\n",
    "%autoreload 2\n",
    "\n",
    "import csv\n",
    "import pickle\n",
    "\n",
    "import numpy as np\n",
    "import tensorflow as tf\n",
    "import matplotlib.pyplot as plt\n",
    "import matplotlib.ticker as ticker\n",
    "\n",
    "\n",
    "from utilities import load_binary_data, load_text_data, arabic_normalizer, english_normalizer, plot_attention\n",
    "from model_tools import (Encoder, Decoder, BahdanauAttention, MaskedLoss, \n",
    "                        TrainTranslator, BatchLogs, Translator, load_model,load_preprocessor)"
   ]
  },
  {
   "cell_type": "markdown",
   "id": "ddd427aa",
   "metadata": {
    "id": "ddd427aa"
   },
   "source": [
    "```resources.py``` this module contains various subclasses from TF tutorials that use TF's low level apis for modelling.\n",
    "\n",
    "```utilities.py``` this module contains some tools for preprocessing and normalizing text data"
   ]
  },
  {
   "cell_type": "markdown",
   "id": "20ea8ac2",
   "metadata": {
    "id": "20ea8ac2"
   },
   "source": [
    "### Part 1: Preprocessing"
   ]
  },
  {
   "cell_type": "markdown",
   "id": "1114bcce",
   "metadata": {
    "id": "1114bcce"
   },
   "source": [
    "1. **Loading in data and preprocessing**"
   ]
  },
  {
   "cell_type": "code",
   "execution_count": 67,
   "id": "219a4237",
   "metadata": {},
   "outputs": [],
   "source": [
    "BATCH_SIZE = 32 # TODO: config\n",
    "EMBEDDING_DIM = 256 # TODO: config\n",
    "UNITS = 128 # TODO: config\n",
    "MAX_VOCAB_SIZE = 10000 # TODO: config"
   ]
  },
  {
   "cell_type": "code",
   "execution_count": 68,
   "id": "ebbd0930",
   "metadata": {},
   "outputs": [],
   "source": [
    "inp, targ = load_text_data(\"train.txt\")\n",
    "test_inp, test_targ = load_text_data(\"test.txt\")\n",
    "train_dataset = tf.data.Dataset.from_tensor_slices((inp, targ)).shuffle(len(inp), seed=0)\n",
    "test_dataset = tf.data.Dataset.from_tensor_slices((test_inp, test_targ)).shuffle(len(test_inp), seed=0)"
   ]
  },
  {
   "cell_type": "code",
   "execution_count": 69,
   "id": "b887d2c5",
   "metadata": {},
   "outputs": [
    {
     "data": {
      "text/plain": [
       "('its your book', 'إنه كتابك')"
      ]
     },
     "execution_count": 69,
     "metadata": {},
     "output_type": "execute_result"
    }
   ],
   "source": [
    "for eng, ar in train_dataset:\n",
    "    break\n",
    "eng.numpy().decode(), ar.numpy().decode()"
   ]
  },
  {
   "cell_type": "code",
   "execution_count": 70,
   "id": "664bd039",
   "metadata": {},
   "outputs": [
    {
     "data": {
      "text/plain": [
       "(10000, 2160)"
      ]
     },
     "execution_count": 70,
     "metadata": {},
     "output_type": "execute_result"
    }
   ],
   "source": [
    "len(inp), len(test_inp)"
   ]
  },
  {
   "cell_type": "code",
   "execution_count": 71,
   "id": "9f84604b",
   "metadata": {},
   "outputs": [
    {
     "data": {
      "text/plain": [
       "('my mother is making a cake for my father', 'تقوم أمي بإعداد كعكة لأجل أبي')"
      ]
     },
     "execution_count": 71,
     "metadata": {},
     "output_type": "execute_result"
    }
   ],
   "source": [
    "for eng, ar in test_dataset:\n",
    "    break\n",
    "eng.numpy().decode(), ar.numpy().decode()"
   ]
  },
  {
   "cell_type": "code",
   "execution_count": 72,
   "id": "f91dadee",
   "metadata": {},
   "outputs": [
    {
     "data": {
      "text/plain": [
       "(10000, 2160)"
      ]
     },
     "execution_count": 72,
     "metadata": {},
     "output_type": "execute_result"
    }
   ],
   "source": [
    "len(targ), len(test_targ)"
   ]
  },
  {
   "cell_type": "markdown",
   "id": "04fc1ac7",
   "metadata": {
    "id": "04fc1ac7"
   },
   "source": [
    "*Batching*"
   ]
  },
  {
   "cell_type": "code",
   "execution_count": 73,
   "id": "fc37b6f4",
   "metadata": {},
   "outputs": [],
   "source": [
    "for inp_batch, targ_batch in train_dataset.batch(batch_size=64, deterministic=True).take(1):\n",
    "    break\n",
    "\n",
    "# [inp.numpy()[i].decode() for i in range(len(inp.numpy()))],\n",
    "# [targ.numpy()[i].decode() for i in range(len(targ.numpy()[0]))]\n",
    "\n",
    "batched_train_dataset = train_dataset.batch(BATCH_SIZE)"
   ]
  },
  {
   "cell_type": "code",
   "execution_count": 74,
   "id": "01d2af9a",
   "metadata": {},
   "outputs": [],
   "source": [
    "for inp_batch_test, targ_batch_test in test_dataset.batch(batch_size=64, deterministic=True, num_parallel_calls=True).take(1):\n",
    "    break\n",
    "\n",
    "# [inp.numpy()[i].decode() for i in range(len(inp.numpy()))],\n",
    "# [targ.numpy()[i].decode() for i in range(len(targ.numpy()[0]))]\n",
    "\n",
    "batched_test_dataset = test_dataset.batch(BATCH_SIZE, deterministic=True)"
   ]
  },
  {
   "cell_type": "code",
   "execution_count": 75,
   "id": "e1caaeaf",
   "metadata": {},
   "outputs": [
    {
     "data": {
      "text/plain": [
       "(8, 6)"
      ]
     },
     "execution_count": 75,
     "metadata": {},
     "output_type": "execute_result"
    }
   ],
   "source": [
    "longest_inp_sent = max([len(inp_batch[i].numpy().decode().split(\" \"))\n",
    "                                 for i in range(len(inp_batch))])\n",
    "longest_targ_sent = max([len(targ_batch[i].numpy().decode().split(\" \"))\n",
    "                                 for i in range(len(targ_batch))])\n",
    "longest_inp_sent, longest_targ_sent"
   ]
  },
  {
   "cell_type": "markdown",
   "id": "a37180cc",
   "metadata": {
    "id": "a37180cc"
   },
   "source": [
    "*Using the imported normalizers from* ```utilities.py``` *to create preprocessor objects*"
   ]
  },
  {
   "cell_type": "code",
   "execution_count": 76,
   "id": "c529310a",
   "metadata": {
    "id": "c529310a",
    "outputId": "50a413ee-bf92-4733-f375-d77115172179"
   },
   "outputs": [
    {
     "name": "stdout",
     "output_type": "stream",
     "text": [
      "tf.Tensor(b'thats a good question', shape=(), dtype=string) ->->-> [START] thats a good question [END]\n",
      "هذا سؤال جيد ->->-> [START] هذا سوال جيد [END]\n"
     ]
    }
   ],
   "source": [
    "print(inp_batch[0], \"->\"*3, english_normalizer(inp_batch[0]).numpy().decode())\n",
    "print(targ_batch[0].numpy().decode(), \"->\"*3, arabic_normalizer(targ_batch[0]).numpy().decode())"
   ]
  },
  {
   "cell_type": "code",
   "execution_count": 77,
   "id": "acb92bc6",
   "metadata": {},
   "outputs": [
    {
     "data": {
      "text/plain": [
       "['', '[UNK]', '[START]', '[END]', 'i', 'you', 'the', 'to', 'a', 'is']"
      ]
     },
     "execution_count": 77,
     "metadata": {},
     "output_type": "execute_result"
    }
   ],
   "source": [
    "max_vocab_size = 10000\n",
    "input_text_processor = tf.keras.layers.TextVectorization(\n",
    "    standardize=english_normalizer,\n",
    "    max_tokens=max_vocab_size)\n",
    "\n",
    "input_text_processor.adapt(inp)\n",
    "input_text_processor.get_vocabulary()[:10]"
   ]
  },
  {
   "cell_type": "code",
   "execution_count": 78,
   "id": "e81673e9",
   "metadata": {},
   "outputs": [
    {
     "data": {
      "text/plain": [
       "(TensorShape([64, 10]), [[2, 90, 8, 81, 307, 3, 0, 0, 0, 0]])"
      ]
     },
     "execution_count": 78,
     "metadata": {},
     "output_type": "execute_result"
    }
   ],
   "source": [
    "example_tokens = input_text_processor(inp_batch)\n",
    "example_tokens.shape, example_tokens.numpy().tolist()[:1]"
   ]
  },
  {
   "cell_type": "code",
   "execution_count": 79,
   "id": "e58a669e",
   "metadata": {},
   "outputs": [
    {
     "data": {
      "text/plain": [
       "'[START] thats a good question [END]    '"
      ]
     },
     "execution_count": 79,
     "metadata": {},
     "output_type": "execute_result"
    }
   ],
   "source": [
    "tokens = np.array(input_text_processor.get_vocabulary())[example_tokens.numpy().tolist()[0]]\n",
    "' '.join(tokens)"
   ]
  },
  {
   "cell_type": "code",
   "execution_count": 80,
   "id": "cfff861f",
   "metadata": {},
   "outputs": [
    {
     "data": {
      "image/png": "[encoded data removed]",
      "text/plain": [
       "<Figure size 432x288 with 2 Axes>"
      ]
     },
     "metadata": {
      "needs_background": "light"
     },
     "output_type": "display_data"
    }
   ],
   "source": [
    "plot_attention(ex_tokens=example_tokens)"
   ]
  },
  {
   "cell_type": "markdown",
   "id": "16ec741e",
   "metadata": {},
   "source": [
    "Test out the input preprocessor on the test sample"
   ]
  },
  {
   "cell_type": "code",
   "execution_count": 81,
   "id": "cd637530",
   "metadata": {},
   "outputs": [
    {
     "data": {
      "text/plain": [
       "(TensorShape([11]),\n",
       " [2, 14, 153, 9, 1400, 8, 580, 29, 14, 101, 3],\n",
       " '[START] my mother is making a cake for my father [END]')"
      ]
     },
     "execution_count": 81,
     "metadata": {},
     "output_type": "execute_result"
    }
   ],
   "source": [
    "example_tokens = input_text_processor(eng)\n",
    "example_tokens.shape, example_tokens.numpy().tolist(), \" \".join(list(np.array(input_text_processor.get_vocabulary())[example_tokens.numpy().tolist()]))"
   ]
  },
  {
   "cell_type": "markdown",
   "id": "e0b8ce66",
   "metadata": {},
   "source": [
    "__________________________________________\n",
    "__________________________________________"
   ]
  },
  {
   "cell_type": "markdown",
   "id": "7c8d73db",
   "metadata": {},
   "source": [
    "Repeat for the output text preprocessor"
   ]
  },
  {
   "cell_type": "code",
   "execution_count": 82,
   "id": "2ee473d7",
   "metadata": {},
   "outputs": [
    {
     "data": {
      "text/plain": [
       "['', '[UNK]', '[START]', '[END]', 'ان', 'توم', 'من', 'لا', 'في', 'هل']"
      ]
     },
     "execution_count": 82,
     "metadata": {},
     "output_type": "execute_result"
    }
   ],
   "source": [
    "output_text_processor = tf.keras.layers.TextVectorization(\n",
    "    standardize=arabic_normalizer,\n",
    "    max_tokens=max_vocab_size)\n",
    "\n",
    "output_text_processor.adapt(targ)\n",
    "output_text_processor.get_vocabulary()[:10]"
   ]
  },
  {
   "cell_type": "code",
   "execution_count": 83,
   "id": "02db1b37",
   "metadata": {},
   "outputs": [
    {
     "data": {
      "text/plain": [
       "(tf.int64, TensorShape([64, 8]), [[2, 12, 502, 148, 3, 0, 0, 0]])"
      ]
     },
     "execution_count": 83,
     "metadata": {},
     "output_type": "execute_result"
    }
   ],
   "source": [
    "example_tokens = output_text_processor(targ_batch)\n",
    "example_tokens.dtype, example_tokens.shape, example_tokens.numpy().tolist()[:1]"
   ]
  },
  {
   "cell_type": "code",
   "execution_count": 84,
   "id": "5a3e7cab",
   "metadata": {},
   "outputs": [
    {
     "data": {
      "text/plain": [
       "'[START] هذا سوال جيد [END]   '"
      ]
     },
     "execution_count": 84,
     "metadata": {},
     "output_type": "execute_result"
    }
   ],
   "source": [
    "tokens = np.array(output_text_processor.get_vocabulary())[example_tokens.numpy().tolist()[:1]]\n",
    "' '.join(tokens)"
   ]
  },
  {
   "cell_type": "code",
   "execution_count": 85,
   "id": "b1c133f1",
   "metadata": {},
   "outputs": [
    {
     "data": {
      "image/png": "[encoded data removed]",
      "text/plain": [
       "<Figure size 432x288 with 2 Axes>"
      ]
     },
     "metadata": {
      "needs_background": "light"
     },
     "output_type": "display_data"
    }
   ],
   "source": [
    "example_tokens=output_text_processor(targ_batch)\n",
    "plot_attention(example_tokens)"
   ]
  },
  {
   "cell_type": "markdown",
   "id": "5974401e",
   "metadata": {},
   "source": [
    "64 sentence batch with a max token length of 8 with most sentence being around 5 tokens long. Any empty tokens are masked."
   ]
  },
  {
   "cell_type": "code",
   "execution_count": 86,
   "id": "5c266316",
   "metadata": {},
   "outputs": [
    {
     "name": "stdout",
     "output_type": "stream",
     "text": [
      "(8,) <dtype: 'int64'> [2, 778, 103, 1, 2540, 2533, 77, 3]\n"
     ]
    },
    {
     "data": {
      "text/plain": [
       "'[START] تقوم امي [UNK] كعكة لاجل ابي [END]'"
      ]
     },
     "execution_count": 86,
     "metadata": {},
     "output_type": "execute_result"
    }
   ],
   "source": [
    "example_tokens = output_text_processor(ar)\n",
    "print(example_tokens.shape, example_tokens.dtype, example_tokens.numpy().tolist())\n",
    "\" \".join(list(np.array(output_text_processor.get_vocabulary())[example_tokens.numpy().tolist()]))"
   ]
  },
  {
   "cell_type": "markdown",
   "id": "7cdc5fee",
   "metadata": {
    "id": "7cdc5fee"
   },
   "source": [
    "### Part 2: Modelling"
   ]
  },
  {
   "cell_type": "markdown",
   "id": "b3705988",
   "metadata": {
    "id": "b3705988"
   },
   "source": [
    "The vocabulary will be represented in 256 embedding dimensions."
   ]
  },
  {
   "cell_type": "markdown",
   "id": "bd74c3c4",
   "metadata": {
    "id": "bd74c3c4"
   },
   "source": [
    "1. **The Encoder**"
   ]
  },
  {
   "cell_type": "code",
   "execution_count": 87,
   "id": "92a8c929",
   "metadata": {
    "id": "92a8c929",
    "outputId": "8864ce28-7cf2-4854-e0c6-0ceda321492a"
   },
   "outputs": [
    {
     "name": "stdout",
     "output_type": "stream",
     "text": [
      "Input batch size, shape (batch): (64,)\n",
      "Input batch tokens, shape (batch, s): (64, 20)\n",
      "Encoder output, shape (batch, s, units): (64, 20, 128)\n",
      "Encoder state, shape (batch, units): (64, 128)\n"
     ]
    }
   ],
   "source": [
    "example_tokens = input_text_processor(inp_batch_test)\n",
    "\n",
    "# Encode the input sequence.\n",
    "encoder = Encoder(input_text_processor.vocabulary_size(),\n",
    "                  EMBEDDING_DIM, UNITS)\n",
    "example_enc_output, example_enc_state = encoder(example_tokens)\n",
    "\n",
    "print(f'Input batch size, shape (batch): {inp_batch_test.shape}')\n",
    "print(f'Input batch tokens, shape (batch, s): {example_tokens.shape}')\n",
    "print(f'Encoder output, shape (batch, s, units): {example_enc_output.shape}')\n",
    "print(f'Encoder state, shape (batch, units): {example_enc_state.shape}')"
   ]
  },
  {
   "cell_type": "markdown",
   "id": "2083be23",
   "metadata": {
    "id": "2083be23"
   },
   "source": [
    "*Understanding encoder inputs and outputs and their uses:*\n",
    "- The input shape of a batch is a 64 sentence batch hence the shape 64, by none, ie. 64 x 1\n",
    "- The token size is 20 representing the max sentence lenfth the sample batch `<tf.Tensor: shape=(64, 20)...>` as in the cell above\n",
    "- The encoder returns outputs as per the argument of the GRU layer: `return_sequences=True`, so the returned outputs correspond to the a 3 dimensional tensor of [batch size x max token length x unit number] the latter of which corresponds to 128 units as per our specification in the previous cell. The encoder outputs will be used as an input to the attention head. A further note is that a GRU layer's returned outputs are used as input for the susequent GRU layer.\n",
    "- Finally, the final hidden state of the GRU is of dimensions [batch size x unit #] and is used for the decoder, as per the argument passed to the encoder's GRU layer `return_state=True`. "
   ]
  },
  {
   "cell_type": "markdown",
   "id": "d0d2874f",
   "metadata": {
    "id": "d0d2874f"
   },
   "source": [
    "2. **The attention layer**"
   ]
  },
  {
   "cell_type": "code",
   "execution_count": 88,
   "id": "f0c82772",
   "metadata": {
    "id": "f0c82772"
   },
   "outputs": [],
   "source": [
    "attention_layer = BahdanauAttention(UNITS)"
   ]
  },
  {
   "cell_type": "markdown",
   "id": "64038cf8",
   "metadata": {
    "id": "64038cf8"
   },
   "source": [
    "*Understanding attention layer outputs:*\n",
    "- The attention head/layer takes in the encoder's outputs and the decoder's hidden state. This is because the decoder only has the final state of the encoder to work with giving rise to information that may be excluded due to such a bottle neck. \n",
    "- Applying Bahdanau's attention score formula adds across the sum of weights x hidden states of the decoder and value output of the encoder, applies a tanh activation, and finally multiplies the result by the weight transposed vector.\n",
    "- the output is a context vector and attention weights that will be combined with the decoder's outputs to create an attention vector \n",
    "\n",
    "\n",
    "\n",
    "Refer to the following diagram from Luong's paper:\n",
    "\n",
    "<img src=\"__Capture.PNG\" alt=\"Drawing\" style=\"width: 300px;\"/>\n",
    "\n",
    "Further details are available on how the weights and context vector is calculated in Loung's intuitive presentation in his paper: https://arxiv.org/abs/1508.04025v5"
   ]
  },
  {
   "cell_type": "code",
   "execution_count": 89,
   "id": "6f737b53",
   "metadata": {
    "id": "6f737b53",
    "outputId": "48bd508e-f006-4927-d240-8ffb2d7c318c"
   },
   "outputs": [
    {
     "data": {
      "text/plain": [
       "TensorShape([64, 2, 10])"
      ]
     },
     "execution_count": 89,
     "metadata": {},
     "output_type": "execute_result"
    }
   ],
   "source": [
    "# generate a random decoder query (hidden state) to test the attention layer\n",
    "example_attention_query = tf.random.normal([len(example_tokens), 2, 10])\n",
    "example_attention_query.shape"
   ]
  },
  {
   "cell_type": "code",
   "execution_count": 90,
   "id": "8b730b94",
   "metadata": {
    "id": "8b730b94",
    "outputId": "97806808-513c-4a36-d618-858261ee7bec"
   },
   "outputs": [
    {
     "name": "stdout",
     "output_type": "stream",
     "text": [
      "Query masks for the first setnence:  tf.Tensor([[1. 1.]], shape=(1, 2), dtype=float32) \n",
      "Value masks for the first setnence:  tf.Tensor([[1. 1. 1. 1. 1. 1. 1. 1. 1. 1. 1. 0. 0. 0. 0. 0. 0. 0. 0. 0.]], shape=(1, 20), dtype=float32)\n",
      "\n",
      "\n",
      "Attention result shape::  (64, 2, 128)\n",
      "\n",
      "\n",
      "Attention weights shape::  (64, 2, 20)\n",
      "\n",
      "\n",
      "-Attention weights should add up to one: \n",
      "\n",
      "\t-Attention weights for 1 sentence --->\n",
      "\n",
      " tf.Tensor(\n",
      "[[0.09053184 0.09013387 0.09049001 0.09047846 0.09042338 0.08931096\n",
      "  0.09030011 0.09069153 0.09273367 0.09311767 0.09178849 0.\n",
      "  0.         0.         0.         0.         0.         0.\n",
      "  0.         0.        ]], shape=(1, 20), dtype=float32) \n",
      "\n",
      "\t-Sum of weights  for 1 sentence--->  1.0 \n",
      "\n",
      "\t-Number of weights per sentence --->  20\n"
     ]
    }
   ],
   "source": [
    "# # assign the values of the attention layer to the context vector \n",
    "# # and attention weight variables \n",
    "context_vector, attention_weights = attention_layer(\n",
    "    query=example_attention_query, # query from decoder\n",
    "    value=example_enc_output, # encoder's output values from sample batch\n",
    "    mask=(example_tokens != 0),# generates a bool seq where the masks are applied to False elements of the sequence \n",
    "                               # i.e. [True, True, True, False, False] - [no mask, no mask, no mask, mask, mask]\n",
    "    print_example_mask=True)  # toggle to check how masking works\n",
    "\n",
    "print(\"\\n\\nAttention result shape:: \", context_vector.shape)\n",
    "print(\"\\n\\nAttention weights shape:: \", attention_weights.shape)\n",
    "print(\"\\n\\n-Attention weights should add up to one:\", \n",
    "      \"\\n\\n\\t-Attention weights for 1 sentence --->\\n\\n\",\n",
    "      attention_weights[:1, 0, :], \n",
    "      \"\\n\\n\\t-Sum of weights  for 1 sentence---> \",\n",
    "      np.sum(attention_weights[:1, 0, :]), \n",
    "      \"\\n\\n\\t-Number of weights per sentence ---> \", \n",
    "      len(attention_weights[:1, 0, :][0]))"
   ]
  },
  {
   "cell_type": "markdown",
   "id": "d0cb9e9f",
   "metadata": {
    "id": "d0cb9e9f"
   },
   "source": [
    "*Understanding attention layer outputs (these are, ofc, user-defined):*\n",
    "- the attention layer outputs: results and weights (assigned to individual tokens of the input)\n",
    "- the attention results take on a shape of (batch_size: 64, query_seq_length: 2, units: 128)\n",
    "- the attention weights atake on a shape of (batch_size, query_seq_length, value_seq_length: 20)"
   ]
  },
  {
   "cell_type": "markdown",
   "id": "439de138",
   "metadata": {
    "id": "439de138"
   },
   "source": [
    "3. **The decoder**"
   ]
  },
  {
   "cell_type": "code",
   "execution_count": 91,
   "id": "1517e772",
   "metadata": {
    "id": "1517e772"
   },
   "outputs": [],
   "source": [
    "# instantiating the decoder requires defining a vocab size, \n",
    "# embedding dimensions and the number of GRU units\n",
    "decoder = Decoder(output_text_processor.vocabulary_size(),\n",
    "                  EMBEDDING_DIM, UNITS)"
   ]
  },
  {
   "cell_type": "markdown",
   "id": "feb0aa25",
   "metadata": {
    "id": "feb0aa25"
   },
   "source": [
    "Calling the decoder on a sample batch requires:\n",
    "1. what the first token is\n",
    "2. what to mask\n",
    "3. the encoders state\n",
    "4. encoder outputs for the attention layer since the attention layer is implemented within the decoder as in \n",
    "```self.attention = BahdanauAttention(self.dec_units)```"
   ]
  },
  {
   "cell_type": "code",
   "execution_count": 92,
   "id": "eb2cb0cb",
   "metadata": {},
   "outputs": [],
   "source": [
    "tf.random.set_seed(0) # TODO: add to config"
   ]
  },
  {
   "cell_type": "code",
   "execution_count": 93,
   "id": "25e2df76",
   "metadata": {
    "id": "25e2df76",
    "outputId": "7733fdf4-46d1-49e0-e86b-a2ef37174706"
   },
   "outputs": [
    {
     "data": {
      "text/plain": [
       "array([['سانتظر'],\n",
       "       ['تنزهنا'],\n",
       "       ['لمكتب'],\n",
       "       ['اذا'],\n",
       "       ['بكاس']], dtype='<U12')"
      ]
     },
     "execution_count": 93,
     "metadata": {},
     "output_type": "execute_result"
    }
   ],
   "source": [
    "from resources import DecoderInput\n",
    "\n",
    "example_output_tokens = output_text_processor(targ_batch)\n",
    "start_index = output_text_processor.get_vocabulary().index('[START]')\n",
    "first_token = tf.constant([[start_index]] * example_output_tokens.shape[0])\n",
    "\n",
    "dec_result, dec_state = decoder(\n",
    "                          inputs = DecoderInput(new_tokens=first_token,\n",
    "                          enc_output=example_enc_output,\n",
    "                          mask=(example_tokens != 0)),\n",
    "                          state = example_enc_state,)\n",
    "\n",
    "sampled_token = tf.random.categorical(dec_result.logits[:, 0, :], \n",
    "                                        num_samples=1)\n",
    "vocab = np.array(output_text_processor.get_vocabulary())\n",
    "vocab[sampled_token.numpy()][:5]"
   ]
  },
  {
   "cell_type": "code",
   "execution_count": 94,
   "id": "094313b2",
   "metadata": {},
   "outputs": [
    {
     "name": "stdout",
     "output_type": "stream",
     "text": [
      "logits shape:  (64, 1, 8160)\n",
      "state shape: (64, 128)\n",
      "\n",
      "\n",
      "-Logits for 1 sentence --->\n",
      "\n",
      " tf.Tensor(\n",
      "[[[ 6.3993048e-04 -8.6050546e-03 -2.3147857e-03 ...  2.4134058e-03\n",
      "   -8.3312316e-06  1.4121576e-03]]], shape=(1, 1, 8160), dtype=float32) \n",
      "\n",
      "- # of logits 8160 \n",
      "\n",
      "-Hidden state for 1 sentence tf.Tensor(\n",
      "[[ 0.01516309  0.02158462 -0.00956825  0.03058347 -0.06229579 -0.01681858\n",
      "  -0.00515294  0.01001424  0.04189081 -0.02259987 -0.00107256  0.00250044\n",
      "  -0.00879056  0.01396524  0.00587157  0.00262107  0.01246879 -0.01962302\n",
      "   0.00595351 -0.00373748  0.0243703   0.0349941  -0.0200812   0.00763171\n",
      "   0.01983088 -0.01400585  0.03102292  0.01054396  0.02210547  0.01966138\n",
      "  -0.00753522 -0.02174191  0.00543661  0.00292465 -0.03151114  0.00678396\n",
      "   0.0296957   0.01095969  0.0115789  -0.01674225  0.01812368  0.00417366\n",
      "   0.01535768  0.01132547 -0.01706898 -0.01102815  0.00700221  0.03348817\n",
      "   0.03709883  0.00836763  0.00786315  0.00746706  0.00314106 -0.06655449\n",
      "  -0.02532198 -0.02560961 -0.02621197  0.03046812  0.0022238   0.06116259\n",
      "  -0.01162836  0.02742423 -0.00090248 -0.02064594  0.01533472  0.00938158\n",
      "   0.02701438 -0.00668452 -0.00635869  0.020566   -0.0049425   0.02076251\n",
      "  -0.00732677 -0.02703775  0.0084175   0.00227393 -0.00195313  0.01284883\n",
      "   0.00952241  0.01384562  0.01393348 -0.00800169  0.02230486  0.02317263\n",
      "   0.02365034 -0.02092435 -0.00186806 -0.00539851  0.00561112  0.00895215\n",
      "  -0.03338738  0.00401185  0.00555212  0.00953775 -0.01820732 -0.02546031\n",
      "  -0.03964396 -0.03097481 -0.01017875 -0.02750558 -0.03163056 -0.03650583\n",
      "   0.00433062  0.00409627  0.01382478  0.01452426  0.0230622   0.01296311\n",
      "  -0.01482177  0.05414769  0.03472774 -0.02791261  0.010529    0.00494059\n",
      "   0.03839294  0.0068221  -0.00463673  0.03170828 -0.01324366  0.02161033\n",
      "  -0.00359189 -0.01523999  0.0033085  -0.00638992 -0.00038528  0.02327324\n",
      "  -0.00563453 -0.00711327]], shape=(1, 128), dtype=float32)\n"
     ]
    }
   ],
   "source": [
    "print(f'logits shape:  {dec_result.logits.shape}')\n",
    "print(f'state shape: {dec_state.shape}')\n",
    "\n",
    "print(\n",
    "      \"\\n\\n-Logits for 1 sentence --->\\n\\n\",\n",
    "      dec_result[0][:1], \"\\n\\n- # of logits\", len(dec_result[0][0][0]), \n",
    "      \"\\n\\n-Hidden state for 1 sentence\", \n",
    "      dec_state[:1, :])"
   ]
  },
  {
   "cell_type": "markdown",
   "id": "194a90c1",
   "metadata": {
    "id": "194a90c1"
   },
   "source": [
    "*Understanding decoder outputs:*\n",
    "- the logits take on a shape of (batch_size, # tokens, output_vocab_size), one logit per encoded class resulting in 10,000 for our case\n",
    "- the state shape is (batch_size, dec_units)"
   ]
  },
  {
   "cell_type": "markdown",
   "id": "0d877115",
   "metadata": {
    "id": "0d877115"
   },
   "source": [
    "4. **Loss and optimizer**\n",
    "\n",
    "We'll use the MaskedLoss from tensorflow tutorials on machine translation with attention to apply losses only to the non-masked outputs as in: loss*= mask, then take the reduces sum of the resulting loss.\n",
    "\n",
    "\n",
    "```self.loss = tf.keras.losses.SparseCategoricalCrossentropy(from_logits=True,  reduction='none')\n",
    " loss = self.loss(y_true, y_pred)\n",
    " mask = tf.cast(y_true != 0, tf.float32)\n",
    " loss *= mask\n",
    " tf.reduce_sum(loss)```"
   ]
  },
  {
   "cell_type": "code",
   "execution_count": 95,
   "id": "a40357db",
   "metadata": {
    "id": "a40357db"
   },
   "outputs": [],
   "source": [
    "loss = MaskedLoss()\n",
    "optimizer = optimizer=tf.optimizers.Adam()"
   ]
  },
  {
   "cell_type": "markdown",
   "id": "6d15445d",
   "metadata": {},
   "source": [
    "Demonstrating model instantiation, training and loss analysis"
   ]
  },
  {
   "cell_type": "code",
   "execution_count": 98,
   "id": "5231de72",
   "metadata": {
    "id": "5231de72"
   },
   "outputs": [],
   "source": [
    "translator = TrainTranslator(\n",
    "    EMBEDDING_DIM, UNITS,\n",
    "    input_text_processor=input_text_processor,\n",
    "    output_text_processor=output_text_processor,\n",
    "    use_tf_function=False)\n",
    "\n",
    "# Configure the loss and optimizer\n",
    "translator.compile(\n",
    "    optimizer=tf.optimizers.Adam(),\n",
    "    loss=MaskedLoss(),\n",
    ")"
   ]
  },
  {
   "cell_type": "code",
   "execution_count": 99,
   "id": "db226725",
   "metadata": {
    "id": "db226725",
    "outputId": "8a1e1b9a-2ee8-43c2-e1ac-4351e7a80ae9",
    "scrolled": true
   },
   "outputs": [
    {
     "name": "stdout",
     "output_type": "stream",
     "text": [
      "{'batch_loss': <tf.Tensor: shape=(), dtype=float32, numpy=7.410423>}\n",
      "{'batch_loss': <tf.Tensor: shape=(), dtype=float32, numpy=7.404695>}\n",
      "{'batch_loss': <tf.Tensor: shape=(), dtype=float32, numpy=7.3980384>}\n",
      "{'batch_loss': <tf.Tensor: shape=(), dtype=float32, numpy=7.389213>}\n",
      "{'batch_loss': <tf.Tensor: shape=(), dtype=float32, numpy=7.3768396>}\n",
      "{'batch_loss': <tf.Tensor: shape=(), dtype=float32, numpy=7.3592086>}\n",
      "{'batch_loss': <tf.Tensor: shape=(), dtype=float32, numpy=7.334065>}\n",
      "{'batch_loss': <tf.Tensor: shape=(), dtype=float32, numpy=7.2983475>}\n",
      "{'batch_loss': <tf.Tensor: shape=(), dtype=float32, numpy=7.247869>}\n",
      "{'batch_loss': <tf.Tensor: shape=(), dtype=float32, numpy=7.176916>}\n",
      "\n",
      "Wall time: 2.22 s\n"
     ]
    }
   ],
   "source": [
    "%%time\n",
    "for n in range(10):\n",
    "    print(translator.train_step([inp_batch, targ_batch]))\n",
    "print()"
   ]
  },
  {
   "cell_type": "code",
   "execution_count": 100,
   "id": "b5f7984b",
   "metadata": {
    "id": "b5f7984b",
    "outputId": "7f9a5eef-fceb-43b4-9e7e-2e5d434f8198"
   },
   "outputs": [
    {
     "name": "stdout",
     "output_type": "stream",
     "text": [
      "....................................................................................................\n"
     ]
    },
    {
     "data": {
      "text/plain": [
       "[<matplotlib.lines.Line2D at 0x26d8e118250>]"
      ]
     },
     "execution_count": 100,
     "metadata": {},
     "output_type": "execute_result"
    },
    {
     "data": {
      "image/png": "[encoded data removed]",
      "text/plain": [
       "<Figure size 432x288 with 1 Axes>"
      ]
     },
     "metadata": {
      "needs_background": "light"
     },
     "output_type": "display_data"
    }
   ],
   "source": [
    "losses = []\n",
    "for n in range(100):\n",
    "    print('.', end='')\n",
    "    logs = translator.train_step([inp_batch, targ_batch])\n",
    "    losses.append(logs['batch_loss'].numpy())\n",
    "\n",
    "print()\n",
    "plt.plot(losses)"
   ]
  },
  {
   "cell_type": "markdown",
   "id": "1fd77166",
   "metadata": {},
   "source": [
    "#### Here is where the actual training happens over several epochs\n",
    "\n",
    "instantiating the *TrainTranslator* model from `model_tools.py`"
   ]
  },
  {
   "cell_type": "code",
   "execution_count": 101,
   "id": "b5318338",
   "metadata": {
    "id": "b5318338"
   },
   "outputs": [],
   "source": [
    "train_translator = TrainTranslator(\n",
    "    EMBEDDING_DIM, UNITS,\n",
    "    input_text_processor=input_text_processor,\n",
    "    output_text_processor=output_text_processor)\n",
    "\n",
    "# Configure the loss and optimizer\n",
    "train_translator.compile(\n",
    "    optimizer=tf.optimizers.Adam(),\n",
    "    loss=MaskedLoss(),\n",
    ")"
   ]
  },
  {
   "cell_type": "code",
   "execution_count": 102,
   "id": "3f244ba6",
   "metadata": {
    "id": "3f244ba6",
    "outputId": "97e9306c-280b-434f-f60c-ad67e7f8efdd"
   },
   "outputs": [
    {
     "name": "stdout",
     "output_type": "stream",
     "text": [
      "Epoch 1/20\n",
      "313/313 [==============================] - 22s 53ms/step - batch_loss: 5.5755\n",
      "Epoch 2/20\n",
      "313/313 [==============================] - 16s 53ms/step - batch_loss: 4.9635\n",
      "Epoch 3/20\n",
      "313/313 [==============================] - 17s 53ms/step - batch_loss: 4.6138\n",
      "Epoch 4/20\n",
      "313/313 [==============================] - 17s 53ms/step - batch_loss: 4.1843\n",
      "Epoch 5/20\n",
      "313/313 [==============================] - 17s 53ms/step - batch_loss: 3.7828\n",
      "Epoch 6/20\n",
      "313/313 [==============================] - 17s 53ms/step - batch_loss: 3.4236\n",
      "Epoch 7/20\n",
      "313/313 [==============================] - 17s 53ms/step - batch_loss: 3.1001\n",
      "Epoch 8/20\n",
      "313/313 [==============================] - 17s 53ms/step - batch_loss: 2.7962\n",
      "Epoch 9/20\n",
      "313/313 [==============================] - 17s 53ms/step - batch_loss: 2.5187\n",
      "Epoch 10/20\n",
      "313/313 [==============================] - 17s 55ms/step - batch_loss: 2.2688\n",
      "Epoch 11/20\n",
      "313/313 [==============================] - 17s 54ms/step - batch_loss: 2.0368\n",
      "Epoch 12/20\n",
      "313/313 [==============================] - 18s 56ms/step - batch_loss: 1.8295\n",
      "Epoch 13/20\n",
      "313/313 [==============================] - 17s 54ms/step - batch_loss: 1.6290\n",
      "Epoch 14/20\n",
      "313/313 [==============================] - 17s 53ms/step - batch_loss: 1.4506\n",
      "Epoch 15/20\n",
      "313/313 [==============================] - 17s 53ms/step - batch_loss: 1.2858\n",
      "Epoch 16/20\n",
      "313/313 [==============================] - 16s 53ms/step - batch_loss: 1.1389\n",
      "Epoch 17/20\n",
      "313/313 [==============================] - 17s 55ms/step - batch_loss: 1.0092\n",
      "Epoch 18/20\n",
      "313/313 [==============================] - 17s 54ms/step - batch_loss: 0.8959\n",
      "Epoch 19/20\n",
      "313/313 [==============================] - 17s 54ms/step - batch_loss: 0.7949\n",
      "Epoch 20/20\n",
      "313/313 [==============================] - 17s 53ms/step - batch_loss: 0.7080\n"
     ]
    },
    {
     "data": {
      "text/plain": [
       "<keras.callbacks.History at 0x26d8b6cd190>"
      ]
     },
     "execution_count": 102,
     "metadata": {},
     "output_type": "execute_result"
    }
   ],
   "source": [
    "# keep track of batch loss\n",
    "from resources import BatchLogs\n",
    "batch_loss = BatchLogs('batch_loss')\n",
    "train_translator.fit(batched_train_dataset, epochs=20,\n",
    "                     callbacks=[batch_loss], batch_size=32)"
   ]
  },
  {
   "cell_type": "code",
   "execution_count": 103,
   "id": "388ee7de",
   "metadata": {
    "id": "388ee7de"
   },
   "outputs": [
    {
     "data": {
      "text/plain": [
       "Text(0, 0.5, 'CE/token')"
      ]
     },
     "execution_count": 103,
     "metadata": {},
     "output_type": "execute_result"
    },
    {
     "data": {
      "image/png": "[encoded data removed]",
      "text/plain": [
       "<Figure size 432x288 with 1 Axes>"
      ]
     },
     "metadata": {
      "needs_background": "light"
     },
     "output_type": "display_data"
    }
   ],
   "source": [
    "# warnings.filterwarnings(\"ignore\")\n",
    "plt.plot(batch_loss.logs)\n",
    "plt.ylim([0, 8])\n",
    "plt.xlabel('Batch #')\n",
    "plt.ylabel('CE/token')"
   ]
  },
  {
   "cell_type": "code",
   "execution_count": 104,
   "id": "83940224",
   "metadata": {
    "id": "83940224"
   },
   "outputs": [],
   "source": [
    "train_translator.save_weights('trained_translator', save_format=\"tf\")"
   ]
  },
  {
   "cell_type": "code",
   "execution_count": 105,
   "id": "f894d60f",
   "metadata": {
    "id": "f894d60f"
   },
   "outputs": [],
   "source": [
    "translator = load_model(input_processor=input_text_processor,\n",
    "                        output_processor=output_text_processor, \n",
    "                        weights = 'trained_translator',\n",
    "                        embedding_dim=EMBEDDING_DIM, units=UNITS)"
   ]
  },
  {
   "cell_type": "code",
   "execution_count": 106,
   "id": "07d64268",
   "metadata": {
    "id": "07d64268",
    "outputId": "e300fb72-8db9-4d20-a759-0685904891b1"
   },
   "outputs": [
    {
     "data": {
      "text/plain": [
       "['اقتباس فى', 'حافظي يقومون', 'ظننت طباخ', 'يلمس خرجنا', 'تزداد شيد']"
      ]
     },
     "execution_count": 106,
     "metadata": {},
     "output_type": "execute_result"
    }
   ],
   "source": [
    "example_output_tokens = tf.random.uniform(\n",
    "    shape=[5, 2], minval=0, dtype=tf.int64,\n",
    "    maxval=output_text_processor.vocabulary_size())\n",
    "result = translator.tokens_to_text(example_output_tokens).numpy()\n",
    "decode = np.vectorize(lambda x: x.decode('UTF-8'))\n",
    "result = decode(result)\n",
    "result.tolist()"
   ]
  },
  {
   "cell_type": "code",
   "execution_count": 107,
   "id": "27ece8bf",
   "metadata": {
    "id": "27ece8bf",
    "outputId": "c009242d-182d-47e2-c1f6-4e8ec9df05eb"
   },
   "outputs": [
    {
     "data": {
      "text/plain": [
       "<tf.Tensor: shape=(5, 1), dtype=int64, numpy=\n",
       "array([[3527],\n",
       "       [7159],\n",
       "       [3583],\n",
       "       [7790],\n",
       "       [ 163]], dtype=int64)>"
      ]
     },
     "execution_count": 107,
     "metadata": {},
     "output_type": "execute_result"
    }
   ],
   "source": [
    "example_logits = tf.random.normal([5, 1, output_text_processor.vocabulary_size()])\n",
    "example_output_tokens = translator.sample(example_logits, temperature=1.0)\n",
    "example_output_tokens"
   ]
  },
  {
   "cell_type": "code",
   "execution_count": 110,
   "id": "847e8aba",
   "metadata": {
    "id": "847e8aba",
    "outputId": "b1a1a38e-807e-4437-e20e-f683b96a3b25"
   },
   "outputs": [
    {
     "name": "stdout",
     "output_type": "stream",
     "text": [
      "اهذا هو قاله من الجهة الاخرى\n",
      "الممارسة عثر على احر من يمكنك\n",
      "سوف دفعته الى البوماتك خلال الاخر\n",
      "ما رايك ان طولك\n",
      "عما تريد في كلتا سيارتين\n",
      "ماذا تعني لي\n",
      "متى اخترعت مفضلاتي\n",
      "اين عاملني المال\n",
      "ان تكون ان تكون حفل العنق اذا قطع\n",
      "اجعل القلعة حالا\n"
     ]
    }
   ],
   "source": [
    "input_text = tf.constant(test_inp)\n",
    "result = translator.translate_unrolled(input_text = input_text)\n",
    "[print(result['text'][i].numpy().decode()) for i in range(10)];"
   ]
  },
  {
   "cell_type": "code",
   "execution_count": 111,
   "id": "fda81e63",
   "metadata": {},
   "outputs": [
    {
     "name": "stdout",
     "output_type": "stream",
     "text": [
      "هذه طبيبا\n",
      "اين تتناول\n",
      "كيف يمكن ان اساعدك\n"
     ]
    }
   ],
   "source": [
    "input_text = tf.constant([\n",
    "    'This is a gift for you.', # هذه الهدية لك --> accurately translated\n",
    "    'Where are you going', #   أين تذهب؟ --> mistranslated as \"who knows me\"\n",
    "    'How can I help you' # كيف يمكنني مساعدتك --> accurately translated\n",
    "])\n",
    "\n",
    "result = translator.translate_unrolled(input_text = input_text)\n",
    "[print(result['text'][i].numpy().decode()) for i in range(3)];"
   ]
  },
  {
   "cell_type": "markdown",
   "id": "fc6d3e93",
   "metadata": {
    "id": "fc6d3e93"
   },
   "source": [
    "- The model's able to translate relatively shorter sentences, and words it's seen, but struggles with words it's not seen, or with longer sentences. The following cells on attention and long sentencs prove that.\n",
    "- It's also been able to incorporate punctuation like question marks well."
   ]
  },
  {
   "cell_type": "code",
   "execution_count": 112,
   "id": "25df5d07",
   "metadata": {
    "id": "25df5d07",
    "outputId": "64943015-fc93-4bc8-c8d3-a64e6ac30076"
   },
   "outputs": [
    {
     "name": "stdout",
     "output_type": "stream",
     "text": [
      "there are mothers and fathers who will lie awake after the children fall asleep and wonder how theyll make the mortgage or pay their doctors bills or save enough for their childs college education\n",
      "\n",
      "وهناك أمهات وآباء سيظلون مستيقظين بعد أن ينام أطفالهم، يتساءلون عن كيف سيسددون أقساط الرهن العقاري الذي اشترَوْ به بيتهم، وكيف سيدفعون فواتير أطبائهم، أو توفير ما يحتاجونه من مال لتسديد رسوم تسجيل أبنائهم في الجامعات\n"
     ]
    }
   ],
   "source": [
    "i = 1\n",
    "long_input_text = tf.constant([test_inp[-i]])\n",
    "english_text = tf.constant([test_targ[-i]])\n",
    "# import textwrap\n",
    "# print('English input output:\\n'.join(textwrap.wrap(long_input_text)))\n",
    "# print('Expected output:\\n', '\\n'.join(textwrap.wrap(english_text)))\n",
    "print(long_input_text.numpy()[0].decode())\n",
    "print()\n",
    "print(english_text.numpy()[0].decode())"
   ]
  }
 ],
 "metadata": {
  "colab": {
   "name": "___Main_seq-seq_ar-en_translator.ipynb",
   "provenance": []
  },
  "kernelspec": {
   "display_name": "Python 3 (ipykernel)",
   "language": "python",
   "name": "python3"
  },
  "language_info": {
   "codemirror_mode": {
    "name": "ipython",
    "version": 3
   },
   "file_extension": ".py",
   "mimetype": "text/x-python",
   "name": "python",
   "nbconvert_exporter": "python",
   "pygments_lexer": "ipython3",
   "version": "3.9.7"
  }
 },
 "nbformat": 4,
 "nbformat_minor": 5
}
